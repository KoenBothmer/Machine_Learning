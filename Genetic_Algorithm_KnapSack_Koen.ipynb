{
 "cells": [
  {
   "cell_type": "markdown",
   "metadata": {},
   "source": [
    "This is my own try on the genetic algorithm to solve the knapsack problem before reading the suggested solution in the course book. An interesting discovery on dynamic mutation was explained in this notebook."
   ]
  },
  {
   "cell_type": "code",
   "execution_count": 1,
   "metadata": {},
   "outputs": [],
   "source": [
    "import numpy as np\n",
    "import pandas as pd\n",
    "import random\n",
    "import matplotlib.pyplot as plt"
   ]
  },
  {
   "cell_type": "code",
   "execution_count": 2,
   "metadata": {},
   "outputs": [],
   "source": [
    "#create random items to choose in knapsack problem\n",
    "def fill_itemlist(n):\n",
    "    items = []\n",
    "    for i in range(n):\n",
    "        value = int(random.random()*20)\n",
    "        weight = int(random.random()*20)\n",
    "        items.append([value,weight])\n",
    "    return(items)"
   ]
  },
  {
   "cell_type": "code",
   "execution_count": 3,
   "metadata": {},
   "outputs": [],
   "source": [
    "itemlist = fill_itemlist(20)"
   ]
  },
  {
   "cell_type": "code",
   "execution_count": 4,
   "metadata": {},
   "outputs": [],
   "source": [
    "#create random genes\n",
    "def initialization(population_size, items):\n",
    "    genes = []\n",
    "    for i in range(population_size):\n",
    "        gene = []\n",
    "        for j in items:\n",
    "            gene.append(np.random.randint(2))\n",
    "        genes.append(gene)\n",
    "    return(genes)"
   ]
  },
  {
   "cell_type": "code",
   "execution_count": 5,
   "metadata": {},
   "outputs": [],
   "source": [
    "init_population = (initialization(5,itemlist))"
   ]
  },
  {
   "cell_type": "code",
   "execution_count": 6,
   "metadata": {},
   "outputs": [],
   "source": [
    "#returns 'fitness' of a member based on fitness function\n",
    "def evaluate(member, max_weight, Q):\n",
    "    sack_profit = 0\n",
    "    sack_weight = 0\n",
    "    for index, gene in enumerate(member):\n",
    "        profit = gene*itemlist[index][0]\n",
    "        weight = gene*itemlist[index][1] #gets position 1 (weight) from itemlist at corresponding gene position\n",
    "        sack_profit += profit\n",
    "        sack_weight += weight\n",
    "    t = 1 if sack_weight > max_weight else 0\n",
    "    fitness = sack_profit-(Q*t*(sack_weight-max_weight))\n",
    "    return [fitness]"
   ]
  },
  {
   "cell_type": "code",
   "execution_count": 7,
   "metadata": {},
   "outputs": [],
   "source": [
    "#returns a sorted list of scores so that scores[0,0] is index of best solution, scores [0,1] is score of best solution etc.\n",
    "import operator\n",
    "def evaluate_population(population):\n",
    "    scores = []\n",
    "    for index, member in enumerate(population):\n",
    "        scores.append([index,evaluate(member,20,6)])\n",
    "    scores = sorted(scores, key = operator.itemgetter(1), reverse=True)\n",
    "    return scores"
   ]
  },
  {
   "cell_type": "code",
   "execution_count": 8,
   "metadata": {},
   "outputs": [
    {
     "name": "stdout",
     "output_type": "stream",
     "text": [
      "[[3, [-321]], [2, [-377]], [4, [-455]], [0, [-577]], [1, [-622]]]\n"
     ]
    }
   ],
   "source": [
    "print(evaluate_population(init_population))"
   ]
  },
  {
   "cell_type": "markdown",
   "metadata": {},
   "source": [
    "The approach to the reproduction phase is a bit different from the approach used in the course book. The childs addopt each gene at random from it's parents, either the strongest or second strongest individual of a given poplulation.\n",
    "\n",
    "The returned 'generation' is a list of lists of genes of 5 individuals: the 2 parents and 3 children that randomly inhibited genes from the parents."
   ]
  },
  {
   "cell_type": "code",
   "execution_count": 9,
   "metadata": {},
   "outputs": [],
   "source": [
    "#returns 'generation' of 3 childs with their parents\n",
    "#selection phase is so simple we will not define it on it's own, function returns 2 parents with offspring of 3\n",
    "def reproduction(population): \n",
    "    scorelist = evaluate_population(population)\n",
    "    gene_1 = population[scorelist[0][0]]\n",
    "    gene_2 = population[scorelist[1][0]]\n",
    "    gene_n = []\n",
    "    \n",
    "    generation = [gene_1, gene_2]\n",
    "    \n",
    "    for child in range(3):\n",
    "        gene_n = []\n",
    "        for index, gene in enumerate(gene_1):\n",
    "            gene_n.append(gene_1[index]) if random.random()<0.5 else gene_n.append(gene_2[index])\n",
    "        generation.append(gene_n)\n",
    "    return generation"
   ]
  },
  {
   "cell_type": "markdown",
   "metadata": {},
   "source": [
    "For mutation the approach is a little different from the approach in the workbook: Genes are just flipped at random with parameterized probability."
   ]
  },
  {
   "cell_type": "code",
   "execution_count": 10,
   "metadata": {},
   "outputs": [],
   "source": [
    "#returns a mutated population, mutation_probability setting of 0.05 means each gene has a 5% probability of being flipped\n",
    "def mutation(population, mutation_probability):\n",
    "    generation = []\n",
    "    for member in population:\n",
    "        gene_n = []\n",
    "        for gene in member:\n",
    "            gene = abs(gene-1) if random.random()<mutation_probability else gene #flipping the gene bit\n",
    "            gene_n.append(gene)\n",
    "        generation.append(gene_n)\n",
    "    return generation"
   ]
  },
  {
   "cell_type": "markdown",
   "metadata": {},
   "source": [
    "This is the basis for the real difference from the other solutions: the 'DNA' of both parents is compared bit by bit. Each bit that is found to be equal for both parents is counted. This sum is a meassurement of similarity for the two parents."
   ]
  },
  {
   "cell_type": "code",
   "execution_count": 11,
   "metadata": {},
   "outputs": [
    {
     "data": {
      "text/plain": [
       "12"
      ]
     },
     "execution_count": 11,
     "metadata": {},
     "output_type": "execute_result"
    }
   ],
   "source": [
    "def compare_parents(population):\n",
    "    #parent_1 = evaluate_population(init_population)[0][0]\n",
    "    #parent_2 = evaluate_population(init_population)[1][0]\n",
    "    parent_1 = evaluate_population(population)[0][0]\n",
    "    parent_2 = evaluate_population(population)[1][0]\n",
    "    parent_1 = population[parent_1]\n",
    "    parent_2 = population[parent_2]\n",
    "    \n",
    "    comparability = 0\n",
    "    for index, gene in enumerate(parent_1):\n",
    "        comparability = comparability +1 if gene == parent_2[index] else comparability\n",
    "        \n",
    "    return comparability\n",
    "\n",
    "#for example compare the two best instances of the initial population which is probably low as they were randomly initiated\n",
    "compare_parents(init_population)"
   ]
  },
  {
   "cell_type": "markdown",
   "metadata": {},
   "source": [
    "One case example:\n",
    "On the initial population we experiment letting it reproduce and then mutate 100 times. At first without differintiating in comparability of the parents, afterwards using the comparability to increase the likelihood of mutations:"
   ]
  },
  {
   "cell_type": "code",
   "execution_count": 12,
   "metadata": {},
   "outputs": [],
   "source": [
    "gen = init_population\n",
    "x=[]\n",
    "y=[]\n",
    "for i in range(100):\n",
    "    gen = mutation(reproduction(gen),0.01)\n",
    "    x.append(i)\n",
    "    y.append(evaluate_population(gen)[0][1])  "
   ]
  },
  {
   "cell_type": "markdown",
   "metadata": {},
   "source": [
    "Then we repeat the experiment with a dynamic parameter for likelihood of mutation"
   ]
  },
  {
   "cell_type": "code",
   "execution_count": 13,
   "metadata": {},
   "outputs": [],
   "source": [
    "P_mut = 0.01\n",
    "P_mut_comparable = 0.05\n",
    "\n",
    "gen_m = init_population\n",
    "x_m=[]\n",
    "y_m=[]\n",
    "for i in range(100):\n",
    "    if compare_parents(gen_m)>18:\n",
    "        P_mut = P_mut_comparable \n",
    "    gen_m = mutation(reproduction(gen_m),P_mut)\n",
    "    x_m.append(i)\n",
    "    y_m.append(evaluate_population(gen_m)[0][1])  "
   ]
  },
  {
   "cell_type": "code",
   "execution_count": 14,
   "metadata": {},
   "outputs": [
    {
     "name": "stdout",
     "output_type": "stream",
     "text": [
      "[0, 0, 0, 1, 1, 0, 0, 0, 0, 0, 0, 0, 0, 0, 0, 0, 0, 0, 0, 0]\n",
      "[21]\n",
      "[0, 0, 0, 0, 0, 0, 1, 0, 0, 0, 1, 1, 0, 0, 0, 0, 0, 0, 0, 0]\n",
      "[35]\n"
     ]
    },
    {
     "data": {
      "image/png": "[encoded data removed]",
      "text/plain": [
       "<Figure size 432x288 with 1 Axes>"
      ]
     },
     "metadata": {
      "needs_background": "light"
     },
     "output_type": "display_data"
    }
   ],
   "source": [
    "plt.plot(x,y)\n",
    "plt.plot(x_m,y_m)\n",
    "#The solution at iteration 100\n",
    "print(gen[0])\n",
    "print(evaluate_population(gen)[0][1])\n",
    "print(gen_m[0])\n",
    "print(evaluate_population(gen_m)[0][1])"
   ]
  },
  {
   "cell_type": "markdown",
   "metadata": {},
   "source": [
    "The results vary but the plot of the mutated version seems to outperform it's static counterpart\n",
    "\n",
    "To get a larger amount of results we repeat the experiment for n times by making a function to do repetitions of the experiment. The dynamic_mutation parameter is a boolean, when set to True it uses P_mut_comparable to increase the probability of mutations to happen."
   ]
  },
  {
   "cell_type": "code",
   "execution_count": 15,
   "metadata": {},
   "outputs": [],
   "source": [
    "def experiment(init_population, dynamic_mutation):\n",
    "    gen_m = init_population\n",
    "    P_mut = 0.01\n",
    "    P_mut_comparable = 0.05 #when parents are alike mutation probability increases\n",
    "\n",
    "    runs = 100\n",
    "    max_score = 0\n",
    "    for i in range (runs):\n",
    "        P_mut_i = P_mut\n",
    "        if(dynamic_mutation and compare_parents(gen_m)>18):\n",
    "            P_mut_i = P_mut_comparable \n",
    "        gen_m = mutation(reproduction(gen_m),P_mut_i)\n",
    "        score = evaluate_population(gen_m)[0][1]\n",
    "        score = score[0]\n",
    "        max_score = score if score>max_score else max_score\n",
    "    return max_score"
   ]
  },
  {
   "cell_type": "markdown",
   "metadata": {},
   "source": [
    "To get a result the itemlist to fill the knapsack is initialized 25 times. 25 times a new initial population is generated which is passed to reproduce and mutate with and without the dynamic mutation parameter."
   ]
  },
  {
   "cell_type": "code",
   "execution_count": 16,
   "metadata": {},
   "outputs": [
    {
     "name": "stdout",
     "output_type": "stream",
     "text": [
      "The average score for the static mutation is:  55.44\n",
      "The average score for the dynamic mutation is:  67.44\n"
     ]
    },
    {
     "data": {
      "image/png": "[encoded data removed]",
      "text/plain": [
       "<Figure size 432x288 with 1 Axes>"
      ]
     },
     "metadata": {
      "needs_background": "light"
     },
     "output_type": "display_data"
    }
   ],
   "source": [
    "x = []\n",
    "y0 = []\n",
    "y1 = []\n",
    "y = []\n",
    "for exp in range(25):\n",
    "    itemlist = fill_itemlist(20)\n",
    "    init_population = initialization(5,itemlist)\n",
    "\n",
    "    x.append(exp)\n",
    "    y0.append(experiment(init_population, False))\n",
    "    y1.append(experiment(init_population, True))\n",
    "\n",
    "plt.plot(x,y0)\n",
    "plt.plot(x,y1)\n",
    "print(\"The average score for the static mutation is: \",sum(y0)/len(y0))\n",
    "print(\"The average score for the dynamic mutation is: \",sum(y1)/len(y1))"
   ]
  },
  {
   "cell_type": "markdown",
   "metadata": {},
   "source": [
    "Results may vary given the random states it shows, on average$^*$, the dynamic mutation (orange) outperforms the static mutation \n",
    "\n",
    "\n",
    "$*$Results may vary given the random state"
   ]
  },
  {
   "cell_type": "code",
   "execution_count": null,
   "metadata": {},
   "outputs": [],
   "source": []
  }
 ],
 "metadata": {
  "kernelspec": {
   "display_name": "Python 3",
   "language": "python",
   "name": "python3"
  },
  "language_info": {
   "codemirror_mode": {
    "name": "ipython",
    "version": 3
   },
   "file_extension": ".py",
   "mimetype": "text/x-python",
   "name": "python",
   "nbconvert_exporter": "python",
   "pygments_lexer": "ipython3",
   "version": "3.8.3"
  }
 },
 "nbformat": 4,
 "nbformat_minor": 4
}
